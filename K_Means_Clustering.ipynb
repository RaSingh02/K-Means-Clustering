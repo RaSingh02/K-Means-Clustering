{
  "cells": [
    {
      "cell_type": "markdown",
      "source": [
        "## Assignment 2 | Deep Learning\n",
        "#### Randeep Singh"
      ],
      "metadata": {
        "id": "fpD1cB-J36cY"
      }
    },
    {
      "cell_type": "markdown",
      "metadata": {
        "id": "n2PZsCKDmutA"
      },
      "source": [
        "### Initial importing of necessary libraries and mounting of Google Drive to access data file. Will also ignore any warnings that may appear after running cells."
      ]
    },
    {
      "cell_type": "code",
      "execution_count": 2,
      "metadata": {
        "colab": {
          "base_uri": "https://localhost:8080/"
        },
        "id": "ZUMFcps1mBGy",
        "outputId": "f50f8cfe-bae8-4e1c-a414-cc69c97bd3c7"
      },
      "outputs": [
        {
          "output_type": "stream",
          "name": "stdout",
          "text": [
            "Mounted at /drive\n"
          ]
        }
      ],
      "source": [
        "import numpy as np\n",
        "import pandas as pd\n",
        "import matplotlib.pyplot as plt\n",
        "from google.colab import drive\n",
        "import warnings\n",
        "warnings.filterwarnings('ignore')\n",
        "drive.mount('/drive')"
      ]
    },
    {
      "cell_type": "markdown",
      "metadata": {
        "id": "NwH7WxrMm3PB"
      },
      "source": [
        "#### This cell will import the data from the data.txt file stored in our Google Drive for us to use later on. \n",
        "\n",
        "\n",
        "\n"
      ]
    },
    {
      "cell_type": "code",
      "execution_count": 3,
      "metadata": {
        "colab": {
          "base_uri": "https://localhost:8080/",
          "height": 206
        },
        "id": "s9xQ9wblmQXN",
        "outputId": "0a1d8c71-7d3b-4bfd-d105-fdc0f30d7456"
      },
      "outputs": [
        {
          "output_type": "execute_result",
          "data": {
            "text/plain": [
              "          0         1\n",
              "0  0.009519 -0.636513\n",
              "1  0.977144 -0.823159\n",
              "2 -0.001936  0.658520\n",
              "3  0.626724 -0.770501\n",
              "4 -0.694547 -0.028682"
            ],
            "text/html": [
              "\n",
              "  <div id=\"df-7f14856d-abea-472a-90de-f059493a3149\">\n",
              "    <div class=\"colab-df-container\">\n",
              "      <div>\n",
              "<style scoped>\n",
              "    .dataframe tbody tr th:only-of-type {\n",
              "        vertical-align: middle;\n",
              "    }\n",
              "\n",
              "    .dataframe tbody tr th {\n",
              "        vertical-align: top;\n",
              "    }\n",
              "\n",
              "    .dataframe thead th {\n",
              "        text-align: right;\n",
              "    }\n",
              "</style>\n",
              "<table border=\"1\" class=\"dataframe\">\n",
              "  <thead>\n",
              "    <tr style=\"text-align: right;\">\n",
              "      <th></th>\n",
              "      <th>0</th>\n",
              "      <th>1</th>\n",
              "    </tr>\n",
              "  </thead>\n",
              "  <tbody>\n",
              "    <tr>\n",
              "      <th>0</th>\n",
              "      <td>0.009519</td>\n",
              "      <td>-0.636513</td>\n",
              "    </tr>\n",
              "    <tr>\n",
              "      <th>1</th>\n",
              "      <td>0.977144</td>\n",
              "      <td>-0.823159</td>\n",
              "    </tr>\n",
              "    <tr>\n",
              "      <th>2</th>\n",
              "      <td>-0.001936</td>\n",
              "      <td>0.658520</td>\n",
              "    </tr>\n",
              "    <tr>\n",
              "      <th>3</th>\n",
              "      <td>0.626724</td>\n",
              "      <td>-0.770501</td>\n",
              "    </tr>\n",
              "    <tr>\n",
              "      <th>4</th>\n",
              "      <td>-0.694547</td>\n",
              "      <td>-0.028682</td>\n",
              "    </tr>\n",
              "  </tbody>\n",
              "</table>\n",
              "</div>\n",
              "      <button class=\"colab-df-convert\" onclick=\"convertToInteractive('df-7f14856d-abea-472a-90de-f059493a3149')\"\n",
              "              title=\"Convert this dataframe to an interactive table.\"\n",
              "              style=\"display:none;\">\n",
              "        \n",
              "  <svg xmlns=\"http://www.w3.org/2000/svg\" height=\"24px\"viewBox=\"0 0 24 24\"\n",
              "       width=\"24px\">\n",
              "    <path d=\"M0 0h24v24H0V0z\" fill=\"none\"/>\n",
              "    <path d=\"M18.56 5.44l.94 2.06.94-2.06 2.06-.94-2.06-.94-.94-2.06-.94 2.06-2.06.94zm-11 1L8.5 8.5l.94-2.06 2.06-.94-2.06-.94L8.5 2.5l-.94 2.06-2.06.94zm10 10l.94 2.06.94-2.06 2.06-.94-2.06-.94-.94-2.06-.94 2.06-2.06.94z\"/><path d=\"M17.41 7.96l-1.37-1.37c-.4-.4-.92-.59-1.43-.59-.52 0-1.04.2-1.43.59L10.3 9.45l-7.72 7.72c-.78.78-.78 2.05 0 2.83L4 21.41c.39.39.9.59 1.41.59.51 0 1.02-.2 1.41-.59l7.78-7.78 2.81-2.81c.8-.78.8-2.07 0-2.86zM5.41 20L4 18.59l7.72-7.72 1.47 1.35L5.41 20z\"/>\n",
              "  </svg>\n",
              "      </button>\n",
              "      \n",
              "  <style>\n",
              "    .colab-df-container {\n",
              "      display:flex;\n",
              "      flex-wrap:wrap;\n",
              "      gap: 12px;\n",
              "    }\n",
              "\n",
              "    .colab-df-convert {\n",
              "      background-color: #E8F0FE;\n",
              "      border: none;\n",
              "      border-radius: 50%;\n",
              "      cursor: pointer;\n",
              "      display: none;\n",
              "      fill: #1967D2;\n",
              "      height: 32px;\n",
              "      padding: 0 0 0 0;\n",
              "      width: 32px;\n",
              "    }\n",
              "\n",
              "    .colab-df-convert:hover {\n",
              "      background-color: #E2EBFA;\n",
              "      box-shadow: 0px 1px 2px rgba(60, 64, 67, 0.3), 0px 1px 3px 1px rgba(60, 64, 67, 0.15);\n",
              "      fill: #174EA6;\n",
              "    }\n",
              "\n",
              "    [theme=dark] .colab-df-convert {\n",
              "      background-color: #3B4455;\n",
              "      fill: #D2E3FC;\n",
              "    }\n",
              "\n",
              "    [theme=dark] .colab-df-convert:hover {\n",
              "      background-color: #434B5C;\n",
              "      box-shadow: 0px 1px 3px 1px rgba(0, 0, 0, 0.15);\n",
              "      filter: drop-shadow(0px 1px 2px rgba(0, 0, 0, 0.3));\n",
              "      fill: #FFFFFF;\n",
              "    }\n",
              "  </style>\n",
              "\n",
              "      <script>\n",
              "        const buttonEl =\n",
              "          document.querySelector('#df-7f14856d-abea-472a-90de-f059493a3149 button.colab-df-convert');\n",
              "        buttonEl.style.display =\n",
              "          google.colab.kernel.accessAllowed ? 'block' : 'none';\n",
              "\n",
              "        async function convertToInteractive(key) {\n",
              "          const element = document.querySelector('#df-7f14856d-abea-472a-90de-f059493a3149');\n",
              "          const dataTable =\n",
              "            await google.colab.kernel.invokeFunction('convertToInteractive',\n",
              "                                                     [key], {});\n",
              "          if (!dataTable) return;\n",
              "\n",
              "          const docLinkHtml = 'Like what you see? Visit the ' +\n",
              "            '<a target=\"_blank\" href=https://colab.research.google.com/notebooks/data_table.ipynb>data table notebook</a>'\n",
              "            + ' to learn more about interactive tables.';\n",
              "          element.innerHTML = '';\n",
              "          dataTable['output_type'] = 'display_data';\n",
              "          await google.colab.output.renderOutput(dataTable, element);\n",
              "          const docLink = document.createElement('div');\n",
              "          docLink.innerHTML = docLinkHtml;\n",
              "          element.appendChild(docLink);\n",
              "        }\n",
              "      </script>\n",
              "    </div>\n",
              "  </div>\n",
              "  "
            ]
          },
          "metadata": {},
          "execution_count": 3
        }
      ],
      "source": [
        "data = pd.read_csv('/drive/MyDrive/Deep Learning/data.txt', sep='  ',header=None)\n",
        "data.head()"
      ]
    },
    {
      "cell_type": "markdown",
      "metadata": {
        "id": "Y56JhdWVnpHB"
      },
      "source": [
        "#### The data from the dataset is stored into an array called X."
      ]
    },
    {
      "cell_type": "code",
      "execution_count": 4,
      "metadata": {
        "colab": {
          "base_uri": "https://localhost:8080/"
        },
        "id": "zBERIwuhmR7l",
        "outputId": "9a4e8984-6ddf-4872-d377-7e87740bbeca"
      },
      "outputs": [
        {
          "output_type": "execute_result",
          "data": {
            "text/plain": [
              "array([[ 0.009519, -0.636513],\n",
              "       [ 0.977144, -0.823159],\n",
              "       [-0.001936,  0.65852 ],\n",
              "       [ 0.626724, -0.770501],\n",
              "       [-0.694547, -0.028682]])"
            ]
          },
          "metadata": {},
          "execution_count": 4
        }
      ],
      "source": [
        "X = data.values\n",
        "X[:5]"
      ]
    },
    {
      "cell_type": "markdown",
      "metadata": {
        "id": "eK92hY7cnwhn"
      },
      "source": [
        "#### The cell below is used to plot the data from the dataset."
      ]
    },
    {
      "cell_type": "code",
      "execution_count": 5,
      "metadata": {
        "colab": {
          "base_uri": "https://localhost:8080/",
          "height": 295
        },
        "id": "4_EybUdcmTfH",
        "outputId": "b0089980-6d5c-463e-d5cb-b1582985f1a1"
      },
      "outputs": [
        {
          "output_type": "display_data",
          "data": {
            "text/plain": [
              "<Figure size 432x288 with 1 Axes>"
            ],
            "image/png": "[encoded data removed]"
          },
          "metadata": {
            "needs_background": "light"
          }
        }
      ],
      "source": [
        "plt.scatter(X[:,0], X[:,1])\n",
        "plt.xlabel('x')\n",
        "plt.ylabel('y')\n",
        "plt.title('Dataset')\n",
        "plt.show()"
      ]
    },
    {
      "cell_type": "markdown",
      "metadata": {
        "id": "qPAsFxOYn2Zw"
      },
      "source": [
        "#### This function is the implementation of the Euclidean distance formula as it is used in the 'kmeans_fall2022' function below."
      ]
    },
    {
      "cell_type": "code",
      "execution_count": 6,
      "metadata": {
        "id": "RfhNDgVLmVdT"
      },
      "outputs": [],
      "source": [
        "def calc_distance(X, center, cluster):\n",
        "  return np.sum(np.sqrt((center[cluster.astype(int), 0]-X[:,0])**2 + (center[cluster.astype(int), 1]-X[:,1])**2))"
      ]
    },
    {
      "cell_type": "markdown",
      "metadata": {
        "id": "3FTPkRtY_Unf"
      },
      "source": [
        "#### This is the function to calculate the center of a cluster. The function will take a cluster as an input and return the center of the cluster. The center is calculated by taking the average of the x and y coordinates of all the points in the cluster, using the Euclidean distance formula. The Euclidean distance formula is: (x1-x2)^2 + (y1-y2)^2. The center is a tuple in the form of (x,y) where the center is the average of all the x coordinates and the average of all the y coordinates."
      ]
    },
    {
      "cell_type": "code",
      "execution_count": 7,
      "metadata": {
        "id": "sRzmOsNNmZAD"
      },
      "outputs": [],
      "source": [
        "def kmeans_fall2022(X, k):\n",
        "  # initialize variables\n",
        "  center = np.random.rand(k, 2)\n",
        "  cluster = np.zeros(X.shape[0])\n",
        "  distance = 0\n",
        "\n",
        "  while True:\n",
        "    # update cluster\n",
        "    for i, val in enumerate(X):\n",
        "      cluster[i] = np.argmin(np.sqrt((center[:, 0]-val[0])**2 + (center[:, 1]-val[1])**2))\n",
        "\n",
        "    # update center\n",
        "    for i in range(k):\n",
        "      center[i, 0] = np.mean(X[cluster==i, 0])\n",
        "      center[i, 1] = np.mean(X[cluster==i, 1])\n",
        "\n",
        "    # calculate distance\n",
        "    new_distance = calc_distance(X, center, cluster)\n",
        "    if new_distance == distance:\n",
        "      break\n",
        "    else:\n",
        "      distance = new_distance\n",
        "\n",
        "  return center, cluster"
      ]
    },
    {
      "cell_type": "markdown",
      "metadata": {
        "id": "8fkWSQYvo7m2"
      },
      "source": [
        "### Elbow method implementation to find the optimal k-value."
      ]
    },
    {
      "cell_type": "markdown",
      "source": [
        "#### The elbow method function is defined below. This function will find the Euiclidean distance between each of the points and their respective assigned center for each k-value. The distance betweem the point and the slope at each k-value will be calculated and the first k-value will be returned where the difference in the slope value is < 0.1. This is the optimal k-value. "
      ],
      "metadata": {
        "id": "K9a4GFAGZXgl"
      }
    },
    {
      "cell_type": "code",
      "execution_count": 8,
      "metadata": {
        "id": "qzPupKkR_Unk"
      },
      "outputs": [],
      "source": [
        "def elbow_method(X, k):\n",
        "    dist = []\n",
        "    slope = []\n",
        "    for i in range(1,k):\n",
        "        # calculate kmeans\n",
        "        centers, cluster = kmeans_fall2022(X, i)\n",
        "        dist.append(calc_distance(X, centers, cluster))\n",
        "        # calculate slope\n",
        "        if i > 1:\n",
        "            slope.append(dist[i-1]-dist[i-2])\n",
        "    min_slope = min(slope)\n",
        "    for i in range(2,len(slope)-1):\n",
        "        if slope[i] >= min_slope*0.05:\n",
        "            # plot the elbow\n",
        "            plt.plot(range(1,k), dist)\n",
        "            plt.xlabel('k')\n",
        "            plt.ylabel('Distortion')\n",
        "            plt.title('Elbow Method')\n",
        "            plt.show()\n",
        "            return i+2\n",
        "    return k\n"
      ]
    },
    {
      "cell_type": "markdown",
      "source": [
        "#### Run the elbow method on 10 clusters to find the optimal k value"
      ],
      "metadata": {
        "id": "t9N9kyARZN4o"
      }
    },
    {
      "cell_type": "code",
      "execution_count": 9,
      "metadata": {
        "id": "D0quJlO2mhgH",
        "colab": {
          "base_uri": "https://localhost:8080/",
          "height": 295
        },
        "outputId": "0fa729f3-114e-4bc0-b2fc-c6e8c63f659e"
      },
      "outputs": [
        {
          "output_type": "display_data",
          "data": {
            "text/plain": [
              "<Figure size 432x288 with 1 Axes>"
            ],
            "image/png": "[encoded data removed]"
          },
          "metadata": {
            "needs_background": "light"
          }
        }
      ],
      "source": [
        "k = elbow_method(X,10)\n",
        "centers, cluster = kmeans_fall2022(X, k)"
      ]
    },
    {
      "cell_type": "markdown",
      "metadata": {
        "id": "R32Jnhhzq1R6"
      },
      "source": [
        "#### Plot the dataset with the optimal k value. Each cluster is colored differently, and the centers of each cluster are marked with a black dot."
      ]
    },
    {
      "cell_type": "code",
      "execution_count": 12,
      "metadata": {
        "id": "W0hYRJTKmnkQ",
        "colab": {
          "base_uri": "https://localhost:8080/",
          "height": 295
        },
        "outputId": "535500d6-4f83-45a9-e0c3-ee1a51de2b41"
      },
      "outputs": [
        {
          "output_type": "display_data",
          "data": {
            "text/plain": [
              "<Figure size 432x288 with 1 Axes>"
            ],
            "image/png": "[encoded data removed]"
          },
          "metadata": {
            "needs_background": "light"
          }
        }
      ],
      "source": [
        "\n",
        "plt.scatter(X[:,0], X[:,1], c=cluster, cmap='viridis')\n",
        "plt.scatter(centers[:,0], centers[:,1], c='black', marker='o', s=100, edgecolors='white')\n",
        "\n",
        "plt.xlabel('x')\n",
        "plt.ylabel('y')\n",
        "plt.title('K-Means Clustering')\n",
        "plt.show()"
      ]
    }
  ],
  "metadata": {
    "colab": {
      "provenance": [],
      "collapsed_sections": []
    },
    "kernelspec": {
      "display_name": "Python 3.9.0 64-bit",
      "language": "python",
      "name": "python3"
    },
    "language_info": {
      "codemirror_mode": {
        "name": "ipython",
        "version": 3
      },
      "file_extension": ".py",
      "mimetype": "text/x-python",
      "name": "python",
      "nbconvert_exporter": "python",
      "pygments_lexer": "ipython3",
      "version": "3.9.0"
    },
    "vscode": {
      "interpreter": {
        "hash": "81794d4967e6c3204c66dcd87b604927b115b27c00565d3d43f05ba2f3a2cb0d"
      }
    }
  },
  "nbformat": 4,
  "nbformat_minor": 0
}